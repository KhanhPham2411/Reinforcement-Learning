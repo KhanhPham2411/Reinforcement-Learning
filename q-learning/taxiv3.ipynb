{
  "nbformat": 4,
  "nbformat_minor": 0,
  "metadata": {
    "colab": {
      "name": "taxiv3.ipynb",
      "provenance": []
    },
    "kernelspec": {
      "name": "python3",
      "display_name": "Python 3"
    },
    "accelerator": "GPU"
  },
  "cells": [
    {
      "cell_type": "code",
      "metadata": {
        "id": "y4nt5Ojid0cY",
        "colab_type": "code",
        "colab": {
          "base_uri": "https://localhost:8080/",
          "height": 151
        },
        "outputId": "d05db51e-1dcc-4d83-a85c-617728cf2805"
      },
      "source": [
        "import gym\n",
        "import numpy as np\n",
        "\n",
        "env = gym.make(\"Taxi-v3\")\n",
        "env.s = 89 # set state to 89\n",
        "env.render()"
      ],
      "execution_count": 6,
      "outputs": [
        {
          "output_type": "stream",
          "text": [
            "+---------+\n",
            "|R: | : :\u001b[35mG\u001b[0m|\n",
            "| : |\u001b[43m \u001b[0m: : |\n",
            "| : : : : |\n",
            "| | : | : |\n",
            "|\u001b[34;1mY\u001b[0m| : |B: |\n",
            "+---------+\n",
            "\n"
          ],
          "name": "stdout"
        }
      ]
    },
    {
      "cell_type": "code",
      "metadata": {
        "id": "plZMa_I4f4Gh",
        "colab_type": "code",
        "colab": {}
      },
      "source": [
        "state_size = env.observation_space.n\n",
        "action_size = env.action_space.n\n",
        "\n",
        "q_table = np.zeros((state_size, action_size))\n",
        "\n",
        "FILE_SAVE = \"q_table.npy\"\n",
        "total_episodes = 5000         # Total episodes\n",
        "total_test_episodes = 100     # Total test episodes\n",
        "max_steps = 99                # Max steps per episode\n",
        "\n",
        "learning_rate = 0.7           # Learning rate\n",
        "discount_rate = 0.95         # Discounting rate\n",
        "\n",
        "# Exploration parameters\n",
        "epsilon = 1.0                 # Exploration rate\n",
        "max_epsilon = 1.0             # Exploration probability at start\n",
        "min_epsilon = 0.01            # Minimum exploration probability \n",
        "decay_rate = 0.01             # Exponential decay rate for exploration prob"
      ],
      "execution_count": 7,
      "outputs": []
    },
    {
      "cell_type": "code",
      "metadata": {
        "id": "eaHfu6LujHfX",
        "colab_type": "code",
        "colab": {
          "base_uri": "https://localhost:8080/",
          "height": 34
        },
        "outputId": "fb95727a-9376-409d-af32-4b4002b4bd07"
      },
      "source": [
        "state_size"
      ],
      "execution_count": 9,
      "outputs": [
        {
          "output_type": "execute_result",
          "data": {
            "text/plain": [
              "500"
            ]
          },
          "metadata": {
            "tags": []
          },
          "execution_count": 9
        }
      ]
    },
    {
      "cell_type": "code",
      "metadata": {
        "id": "N0RA2m5vh1kQ",
        "colab_type": "code",
        "colab": {
          "base_uri": "https://localhost:8080/",
          "height": 101
        },
        "outputId": "3b04fe32-0e43-4d1a-8efb-7c45e51ffda9"
      },
      "source": [
        "for episode in range(total_episodes):\n",
        "    state = env.reset()\n",
        "    done = False\n",
        "    for step in range(max_steps):\n",
        "        epsilon = min(min_epsilon, epsilon*decay_rate)\n",
        "        # check if we exploit or not\n",
        "        if np.random.rand() < epsilon:\n",
        "            # exploit\n",
        "            action = np.argmax(q_table[state])\n",
        "        else:\n",
        "            action = np.random.randint(0, action_size)\n",
        "        # get the reward and the next state\n",
        "        new_state, reward, done, _ = env.step(action)\n",
        "        # update the q_table via Bellman equation\n",
        "        update = reward + discount_rate*q_table[new_state].max() - q_table[state,action]\n",
        "        q_table[state,action] = q_table[state,action] + learning_rate*update\n",
        "        state = new_state\n",
        "        if done:\n",
        "            break\n",
        "    if episode % 1e3 == 0:\n",
        "        print(\"done episode \", episode)"
      ],
      "execution_count": 10,
      "outputs": [
        {
          "output_type": "stream",
          "text": [
            "done episode  0\n",
            "done episode  1000\n",
            "done episode  2000\n",
            "done episode  3000\n",
            "done episode  4000\n"
          ],
          "name": "stdout"
        }
      ]
    },
    {
      "cell_type": "code",
      "metadata": {
        "id": "jVadozJalAEW",
        "colab_type": "code",
        "colab": {}
      },
      "source": [
        "np.save(FILE_SAVE, q_table)"
      ],
      "execution_count": 40,
      "outputs": []
    },
    {
      "cell_type": "code",
      "metadata": {
        "id": "lw8ZIb11mjKH",
        "colab_type": "code",
        "colab": {}
      },
      "source": [
        "import time\n",
        "from google.colab import output\n",
        "\n",
        "env.reset()\n",
        "rewards = []\n",
        "\n",
        "for episode in range(total_test_episodes):\n",
        "    state = env.reset()\n",
        "    step = 0\n",
        "    done = False\n",
        "    total_rewards = 0\n",
        "    #print(\"****************************************************\")\n",
        "    #print(\"EPISODE \", episode)\n",
        "\n",
        "    for step in range(max_steps):\n",
        "        # UNCOMMENT IT IF YOU WANT TO SEE OUR AGENT PLAYING\n",
        "        #env.render()\n",
        "        # Take the action (index) that have the maximum expected future reward given that state\n",
        "        action = np.argmax(q_table[state,:])\n",
        "\n",
        "        new_state, reward, done, info = env.step(action)\n",
        "        env.render()\n",
        "        total_rewards += reward\n",
        "        print(total_rewards)\n",
        "        time.sleep(1)\n",
        "        output.clear()\n",
        "\n",
        "        if done:\n",
        "            rewards.append(total_rewards)\n",
        "            #print (\"Score\", total_rewards)\n",
        "            break\n",
        "        state = new_state\n",
        "env.close()\n",
        "print (\"Score over time: \" +  str(sum(rewards)/total_test_episodes))"
      ],
      "execution_count": null,
      "outputs": []
    }
  ]
}